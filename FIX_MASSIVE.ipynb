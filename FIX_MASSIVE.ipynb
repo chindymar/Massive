{
  "nbformat": 4,
  "nbformat_minor": 0,
  "metadata": {
    "colab": {
      "provenance": [],
      "collapsed_sections": [
        "81VwvK3xlxZs",
        "nLKMsgbL6wj3",
        "jl1vW9We6KlH",
        "XVibG4j5mJIR",
        "7YIBfoSpm0az",
        "vyMFbXknnwXh",
        "nonVMb9dn78V",
        "Lh6-BcLUoHOi",
        "d0pL441yoOXV"
      ],
      "include_colab_link": true
    },
    "kernelspec": {
      "name": "python3",
      "display_name": "Python 3"
    },
    "language_info": {
      "name": "python"
    }
  },
  "cells": [
    {
      "cell_type": "markdown",
      "metadata": {
        "id": "view-in-github",
        "colab_type": "text"
      },
      "source": [
        "<a href=\"https://colab.research.google.com/github/chindymar/Massive/blob/main/FIX_MASSIVE.ipynb\" target=\"_parent\"><img src=\"https://colab.research.google.com/assets/colab-badge.svg\" alt=\"Open In Colab\"/></a>"
      ]
    },
    {
      "cell_type": "markdown",
      "source": [
        "#IMPORT LIBRARY"
      ],
      "metadata": {
        "id": "81VwvK3xlxZs"
      }
    },
    {
      "cell_type": "code",
      "execution_count": 1,
      "metadata": {
        "id": "Eg36rV6k6FPD"
      },
      "outputs": [],
      "source": [
        "import numpy as np\n",
        "import pandas as pd\n",
        "import os\n",
        "import cv2\n",
        "from sklearn.model_selection import train_test_split\n",
        "from tensorflow.keras.utils import to_categorical\n",
        "from tensorflow.keras.models import Sequential\n",
        "from tensorflow.keras.layers import Conv2D, MaxPooling2D, Flatten, Dense, Dropout\n",
        "from tensorflow.keras.optimizers import Adam\n",
        "from tensorflow.keras.preprocessing.image import ImageDataGenerator\n",
        "from sklearn.metrics import confusion_matrix, classification_report\n",
        "import matplotlib.pyplot as plt\n",
        "import seaborn as sns"
      ]
    },
    {
      "cell_type": "markdown",
      "source": [
        "#KAGGLE"
      ],
      "metadata": {
        "id": "nLKMsgbL6wj3"
      }
    },
    {
      "cell_type": "code",
      "source": [
        "!pip install -q kaggle\n"
      ],
      "metadata": {
        "id": "w8h1teMW6y8j"
      },
      "execution_count": 4,
      "outputs": []
    },
    {
      "cell_type": "code",
      "source": [
        "!mkdir ~/.kaggle\n"
      ],
      "metadata": {
        "colab": {
          "base_uri": "https://localhost:8080/"
        },
        "id": "-vpCJlfz623s",
        "outputId": "0966cf6d-fe56-478a-f89b-0d57165284c2"
      },
      "execution_count": 5,
      "outputs": [
        {
          "output_type": "stream",
          "name": "stdout",
          "text": [
            "mkdir: cannot create directory ‘/root/.kaggle’: File exists\n"
          ]
        }
      ]
    },
    {
      "cell_type": "code",
      "source": [
        "!cp kaggle.json ~/.kaggle"
      ],
      "metadata": {
        "id": "EGlBeKBm62iu"
      },
      "execution_count": 6,
      "outputs": []
    },
    {
      "cell_type": "code",
      "source": [
        "!chmod 600 ~/.kaggle/kaggle.json\n"
      ],
      "metadata": {
        "id": "4oQU6F1m62YR"
      },
      "execution_count": 7,
      "outputs": []
    },
    {
      "cell_type": "markdown",
      "source": [
        "#MENGUNDUH DATASET\n"
      ],
      "metadata": {
        "id": "jl1vW9We6KlH"
      }
    },
    {
      "cell_type": "code",
      "source": [
        "!kaggle datasets download -d \"kmader/skin-cancer-mnist-ham10000\""
      ],
      "metadata": {
        "colab": {
          "base_uri": "https://localhost:8080/"
        },
        "id": "FQWIRklb6Inc",
        "outputId": "aa3cb1ba-69c5-48a6-a4e8-de5b24a70665"
      },
      "execution_count": 8,
      "outputs": [
        {
          "output_type": "stream",
          "name": "stdout",
          "text": [
            "Warning: Looks like you're using an outdated API Version, please consider updating (server 1.6.14 / client 1.6.12)\n",
            "Dataset URL: https://www.kaggle.com/datasets/kmader/skin-cancer-mnist-ham10000\n",
            "License(s): CC-BY-NC-SA-4.0\n",
            "Downloading skin-cancer-mnist-ham10000.zip to /content\n",
            "100% 5.20G/5.20G [02:12<00:00, 41.6MB/s]\n",
            "100% 5.20G/5.20G [02:12<00:00, 42.1MB/s]\n"
          ]
        }
      ]
    },
    {
      "cell_type": "code",
      "source": [
        "import zipfile\n"
      ],
      "metadata": {
        "id": "ME7HOJPZ6HUN"
      },
      "execution_count": 9,
      "outputs": []
    },
    {
      "cell_type": "code",
      "source": [
        "dataset_zip = zipfile.ZipFile(\"skin-cancer-mnist-ham10000.zip\",\"r\")\n",
        "dataset_zip.extractall(\"Data_Kulit\")\n",
        "dataset_zip.close()"
      ],
      "metadata": {
        "id": "Ml-j99--7BTX"
      },
      "execution_count": 10,
      "outputs": []
    },
    {
      "cell_type": "code",
      "source": [
        "\n",
        "# Load metadata\n",
        "metadata = pd.read_csv('/content/Data_Kulit/HAM10000_metadata.csv')\n"
      ],
      "metadata": {
        "id": "GqwhdKbh7Ced"
      },
      "execution_count": 2,
      "outputs": []
    },
    {
      "cell_type": "code",
      "source": [
        "# Define image paths\n",
        "image_path_1 = '/content/Data_Kulit/ham10000_images_part_1'\n",
        "image_path_2 = '/content/Data_Kulit/ham10000_images_part_2'\n"
      ],
      "metadata": {
        "id": "vwyCVHpT_NJw"
      },
      "execution_count": 3,
      "outputs": []
    },
    {
      "cell_type": "markdown",
      "source": [
        "#MEMBERSIHKAN DATA"
      ],
      "metadata": {
        "id": "XVibG4j5mJIR"
      }
    },
    {
      "cell_type": "code",
      "source": [
        "#identifikasi lesion_id yg mempunyai duplikat citra atau tidak.\n",
        "\n",
        "def identify_duplicates(x):\n",
        "\n",
        "    unique_list = list(df['lesion_id'])\n",
        "\n",
        "    if x in unique_list:\n",
        "        return 'no_duplicates'\n",
        "    else:\n",
        "        return 'has_duplicates'\n",
        "\n",
        "data['duplicates'] = data['lesion_id']\n",
        "data['duplicates'] = data['duplicates'].apply(identify_duplicates)\n",
        "\n",
        "data.head()"
      ],
      "metadata": {
        "id": "ulVCNA3qmHRt"
      },
      "execution_count": null,
      "outputs": []
    },
    {
      "cell_type": "markdown",
      "source": [
        "## Menggabungkan jalur gambar dari dua direktori yang berbeda menjadi satu list.\n"
      ],
      "metadata": {
        "id": "7YIBfoSpm0az"
      }
    },
    {
      "cell_type": "code",
      "source": [
        "image_paths = [os.path.join(image_path_1, img) for img in os.listdir(image_path_1)]\n",
        "image_paths += [os.path.join(image_path_2, img) for img in os.listdir(image_path_2)]\n"
      ],
      "metadata": {
        "id": "I26cJTEPAoDl"
      },
      "execution_count": 4,
      "outputs": []
    },
    {
      "cell_type": "code",
      "source": [
        "print(f'Total number of images: {len(image_paths)}')\n"
      ],
      "metadata": {
        "colab": {
          "base_uri": "https://localhost:8080/"
        },
        "id": "z0nFHuRhSpaF",
        "outputId": "1ba816ca-6d10-44bc-b445-b00116cb799f"
      },
      "execution_count": 5,
      "outputs": [
        {
          "output_type": "stream",
          "name": "stdout",
          "text": [
            "Total number of images: 10015\n"
          ]
        }
      ]
    },
    {
      "cell_type": "code",
      "source": [
        "print(metadata.isnull().sum())\n"
      ],
      "metadata": {
        "colab": {
          "base_uri": "https://localhost:8080/"
        },
        "id": "sBdSotaoSpXv",
        "outputId": "d05eafc0-4c8a-4ee0-86af-78145d920f30"
      },
      "execution_count": 6,
      "outputs": [
        {
          "output_type": "stream",
          "name": "stdout",
          "text": [
            "lesion_id        0\n",
            "image_id         0\n",
            "dx               0\n",
            "dx_type          0\n",
            "age             57\n",
            "sex              0\n",
            "localization     0\n",
            "dtype: int64\n"
          ]
        }
      ]
    },
    {
      "cell_type": "markdown",
      "source": [
        "##Visualisasi dataset"
      ],
      "metadata": {
        "id": "-TrGtV74mrnV"
      }
    },
    {
      "cell_type": "code",
      "source": [
        "plt.figure(figsize=(10,6))\n",
        "sns.countplot(x='dx', data=metadata, order = metadata['dx'].value_counts().index)\n",
        "plt.title('Distribution of Diagnoses')\n",
        "plt.show()"
      ],
      "metadata": {
        "colab": {
          "base_uri": "https://localhost:8080/",
          "height": 564
        },
        "id": "pdyt6y43SpVZ",
        "outputId": "75f82673-1654-4112-ba41-ccef6a1ccfa1"
      },
      "execution_count": 7,
      "outputs": [
        {
          "output_type": "display_data",
          "data": {
            "text/plain": [
              "<Figure size 1000x600 with 1 Axes>"
            ],
            "image/png": "[encoded data removed]"
          },
          "metadata": {}
        }
      ]
    },
    {
      "cell_type": "markdown",
      "source": [
        "##Meresize setiap gambar menjadi ukuran yang sama (64x64 piksel)."
      ],
      "metadata": {
        "id": "MdeXwk5Vm-cl"
      }
    },
    {
      "cell_type": "code",
      "source": [
        "image_size = 64\n",
        "images = []\n",
        "labels = []\n",
        "\n",
        "for path in image_paths:\n",
        "    image_id = os.path.splitext(os.path.basename(path))[0]\n",
        "    label = metadata[metadata['image_id'] == image_id]['dx'].values[0]\n",
        "    img = cv2.imread(path)\n",
        "    img = cv2.resize(img, (image_size, image_size))\n",
        "    images.append(img)\n",
        "    labels.append(label)\n",
        "\n",
        "images = np.array(images)\n",
        "labels = np.array(labels)\n"
      ],
      "metadata": {
        "id": "kyRI3O2_SpQ2"
      },
      "execution_count": 8,
      "outputs": []
    },
    {
      "cell_type": "markdown",
      "source": [],
      "metadata": {
        "id": "oP5VFcWKnIuf"
      }
    },
    {
      "cell_type": "code",
      "source": [
        "# Encode labels\n",
        "label_mapping = {label: idx for idx, label in enumerate(np.unique(labels))}\n",
        "labels = np.array([label_mapping[label] for label in labels])\n"
      ],
      "metadata": {
        "id": "Yk6N-I97SpOm"
      },
      "execution_count": 9,
      "outputs": []
    },
    {
      "cell_type": "markdown",
      "source": [
        "#MEMPERIAPKAN DATA"
      ],
      "metadata": {
        "id": "oDGFWxUUniF6"
      }
    },
    {
      "cell_type": "markdown",
      "source": [
        "##Membagi data latih dan data uji\n"
      ],
      "metadata": {
        "id": "vyMFbXknnwXh"
      }
    },
    {
      "cell_type": "code",
      "source": [
        "# Train-test split\n",
        "X_train, X_test, y_train, y_test = train_test_split(images, labels, test_size=0.2, random_state=42)\n"
      ],
      "metadata": {
        "id": "U6_j3Vm3SpMM"
      },
      "execution_count": 10,
      "outputs": []
    },
    {
      "cell_type": "markdown",
      "source": [
        "##Normalisasi nilai pixel gambar di rentang 0-1"
      ],
      "metadata": {
        "id": "nonVMb9dn78V"
      }
    },
    {
      "cell_type": "code",
      "source": [
        "X_train = X_train / 255.0\n",
        "X_test = X_test / 255.0\n"
      ],
      "metadata": {
        "id": "s646CABci7sR"
      },
      "execution_count": 11,
      "outputs": []
    },
    {
      "cell_type": "markdown",
      "source": [
        "## Mengonversi label kelas menjadi representasi one-hot encoding menggunakan to_categorical dari TensorFlow-Keras."
      ],
      "metadata": {
        "id": "Lh6-BcLUoHOi"
      }
    },
    {
      "cell_type": "code",
      "source": [
        "y_train = to_categorical(y_train, num_classes=len(label_mapping))\n",
        "y_test = to_categorical(y_test, num_classes=len(label_mapping))\n"
      ],
      "metadata": {
        "id": "BsGWcFvySpJ1"
      },
      "execution_count": 12,
      "outputs": []
    },
    {
      "cell_type": "markdown",
      "source": [
        "##Menerapkan augmentasi data pada gambar-gambar latih"
      ],
      "metadata": {
        "id": "d0pL441yoOXV"
      }
    },
    {
      "cell_type": "code",
      "source": [
        "datagen = ImageDataGenerator(\n",
        "    rotation_range=20,\n",
        "    width_shift_range=0.2,\n",
        "    height_shift_range=0.2,\n",
        "    horizontal_flip=True\n",
        ")\n",
        "datagen.fit(X_train)\n"
      ],
      "metadata": {
        "id": "QfHnLhK0SpHk"
      },
      "execution_count": 13,
      "outputs": []
    },
    {
      "cell_type": "markdown",
      "source": [
        "#MEMBANGUN MODEL CNN"
      ],
      "metadata": {
        "id": "2Bx_ZW8cnYCD"
      }
    },
    {
      "cell_type": "code",
      "source": [
        "# Build model\n",
        "model = Sequential([\n",
        "    Conv2D(32, (3, 3), activation='relu', input_shape=(image_size, image_size, 3)),\n",
        "    MaxPooling2D((2, 2)),\n",
        "    Dropout(0.25),\n",
        "    Conv2D(64, (3, 3), activation='relu'),\n",
        "    MaxPooling2D((2, 2)),\n",
        "    Dropout(0.25),\n",
        "    Conv2D(128, (3, 3), activation='relu'),\n",
        "    MaxPooling2D((2, 2)),\n",
        "    Dropout(0.25),\n",
        "    Flatten(),\n",
        "    Dense(512, activation='relu'),\n",
        "    Dropout(0.5),\n",
        "    Dense(len(label_mapping), activation='softmax')\n",
        "])\n"
      ],
      "metadata": {
        "id": "KM_5JXArSpFA"
      },
      "execution_count": 14,
      "outputs": []
    },
    {
      "cell_type": "code",
      "source": [
        "# Compile model\n",
        "model.compile(optimizer=Adam(), loss='categorical_crossentropy', metrics=['accuracy'])\n"
      ],
      "metadata": {
        "id": "P40sT4qWSpCF"
      },
      "execution_count": 15,
      "outputs": []
    },
    {
      "cell_type": "markdown",
      "source": [
        "##Melatih Model"
      ],
      "metadata": {
        "id": "uIc4SjvsonzU"
      }
    },
    {
      "cell_type": "code",
      "source": [
        "# Train model\n",
        "history = model.fit(datagen.flow(X_train, y_train, batch_size=32), epochs=50, validation_data=(X_test, y_test))\n"
      ],
      "metadata": {
        "id": "P1tt7F-7So_Y",
        "colab": {
          "base_uri": "https://localhost:8080/"
        },
        "outputId": "2bd124ee-c96b-4641-fde3-e4a1bee6075a"
      },
      "execution_count": 16,
      "outputs": [
        {
          "output_type": "stream",
          "name": "stdout",
          "text": [
            "Epoch 1/50\n",
            "251/251 [==============================] - 85s 332ms/step - loss: 1.0614 - accuracy: 0.6608 - val_loss: 1.0137 - val_accuracy: 0.6720\n",
            "Epoch 2/50\n",
            "251/251 [==============================] - 82s 325ms/step - loss: 1.0006 - accuracy: 0.6681 - val_loss: 0.9653 - val_accuracy: 0.6720\n",
            "Epoch 3/50\n",
            "251/251 [==============================] - 81s 324ms/step - loss: 0.9611 - accuracy: 0.6702 - val_loss: 0.9135 - val_accuracy: 0.6775\n",
            "Epoch 4/50\n",
            "251/251 [==============================] - 79s 314ms/step - loss: 0.9253 - accuracy: 0.6711 - val_loss: 0.8531 - val_accuracy: 0.6805\n",
            "Epoch 5/50\n",
            "251/251 [==============================] - 80s 320ms/step - loss: 0.8803 - accuracy: 0.6774 - val_loss: 0.8319 - val_accuracy: 0.6830\n",
            "Epoch 6/50\n",
            "251/251 [==============================] - 89s 353ms/step - loss: 0.8550 - accuracy: 0.6821 - val_loss: 0.7958 - val_accuracy: 0.6950\n",
            "Epoch 7/50\n",
            "251/251 [==============================] - 89s 353ms/step - loss: 0.8459 - accuracy: 0.6851 - val_loss: 0.8067 - val_accuracy: 0.6875\n",
            "Epoch 8/50\n",
            "251/251 [==============================] - 98s 388ms/step - loss: 0.8217 - accuracy: 0.6965 - val_loss: 0.8592 - val_accuracy: 0.6930\n",
            "Epoch 9/50\n",
            "251/251 [==============================] - 102s 405ms/step - loss: 0.8075 - accuracy: 0.6988 - val_loss: 0.7774 - val_accuracy: 0.7089\n",
            "Epoch 10/50\n",
            "251/251 [==============================] - 99s 396ms/step - loss: 0.8101 - accuracy: 0.6956 - val_loss: 0.7547 - val_accuracy: 0.7104\n",
            "Epoch 11/50\n",
            "251/251 [==============================] - 112s 444ms/step - loss: 0.7844 - accuracy: 0.7048 - val_loss: 0.7187 - val_accuracy: 0.7234\n",
            "Epoch 12/50\n",
            "251/251 [==============================] - 106s 424ms/step - loss: 0.7925 - accuracy: 0.7039 - val_loss: 0.7104 - val_accuracy: 0.7369\n",
            "Epoch 13/50\n",
            "251/251 [==============================] - 103s 410ms/step - loss: 0.7647 - accuracy: 0.7088 - val_loss: 0.7449 - val_accuracy: 0.7184\n",
            "Epoch 14/50\n",
            "251/251 [==============================] - 81s 322ms/step - loss: 0.7652 - accuracy: 0.7170 - val_loss: 0.7117 - val_accuracy: 0.7319\n",
            "Epoch 15/50\n",
            "251/251 [==============================] - 78s 312ms/step - loss: 0.7518 - accuracy: 0.7185 - val_loss: 0.7209 - val_accuracy: 0.7304\n",
            "Epoch 16/50\n",
            "251/251 [==============================] - 83s 330ms/step - loss: 0.7426 - accuracy: 0.7237 - val_loss: 0.6857 - val_accuracy: 0.7494\n",
            "Epoch 17/50\n",
            "251/251 [==============================] - 81s 323ms/step - loss: 0.7443 - accuracy: 0.7183 - val_loss: 0.7056 - val_accuracy: 0.7319\n",
            "Epoch 18/50\n",
            "251/251 [==============================] - 79s 314ms/step - loss: 0.7348 - accuracy: 0.7220 - val_loss: 0.7163 - val_accuracy: 0.7434\n",
            "Epoch 19/50\n",
            "251/251 [==============================] - 81s 321ms/step - loss: 0.7391 - accuracy: 0.7260 - val_loss: 0.6873 - val_accuracy: 0.7359\n",
            "Epoch 20/50\n",
            "251/251 [==============================] - 78s 310ms/step - loss: 0.7264 - accuracy: 0.7269 - val_loss: 0.6863 - val_accuracy: 0.7334\n",
            "Epoch 21/50\n",
            "251/251 [==============================] - 79s 313ms/step - loss: 0.7280 - accuracy: 0.7237 - val_loss: 0.6847 - val_accuracy: 0.7419\n",
            "Epoch 22/50\n",
            "251/251 [==============================] - 78s 311ms/step - loss: 0.7135 - accuracy: 0.7323 - val_loss: 0.6994 - val_accuracy: 0.7389\n",
            "Epoch 23/50\n",
            "251/251 [==============================] - 78s 311ms/step - loss: 0.7079 - accuracy: 0.7313 - val_loss: 0.7321 - val_accuracy: 0.7329\n",
            "Epoch 24/50\n",
            "251/251 [==============================] - 86s 342ms/step - loss: 0.7044 - accuracy: 0.7327 - val_loss: 0.6722 - val_accuracy: 0.7559\n",
            "Epoch 25/50\n",
            "251/251 [==============================] - 78s 311ms/step - loss: 0.7256 - accuracy: 0.7346 - val_loss: 0.6601 - val_accuracy: 0.7609\n",
            "Epoch 26/50\n",
            "251/251 [==============================] - 79s 313ms/step - loss: 0.7080 - accuracy: 0.7375 - val_loss: 0.7224 - val_accuracy: 0.7279\n",
            "Epoch 27/50\n",
            "251/251 [==============================] - 80s 320ms/step - loss: 0.6961 - accuracy: 0.7424 - val_loss: 0.6676 - val_accuracy: 0.7479\n",
            "Epoch 28/50\n",
            "251/251 [==============================] - 86s 342ms/step - loss: 0.6983 - accuracy: 0.7391 - val_loss: 0.7006 - val_accuracy: 0.7389\n",
            "Epoch 29/50\n",
            "251/251 [==============================] - 79s 316ms/step - loss: 0.6839 - accuracy: 0.7409 - val_loss: 0.6909 - val_accuracy: 0.7564\n",
            "Epoch 30/50\n",
            "251/251 [==============================] - 81s 322ms/step - loss: 0.6842 - accuracy: 0.7459 - val_loss: 0.7003 - val_accuracy: 0.7514\n",
            "Epoch 31/50\n",
            "251/251 [==============================] - 80s 319ms/step - loss: 0.6911 - accuracy: 0.7420 - val_loss: 0.7424 - val_accuracy: 0.7329\n",
            "Epoch 32/50\n",
            "251/251 [==============================] - 82s 327ms/step - loss: 0.6732 - accuracy: 0.7488 - val_loss: 0.7000 - val_accuracy: 0.7429\n",
            "Epoch 33/50\n",
            "251/251 [==============================] - 99s 394ms/step - loss: 0.6755 - accuracy: 0.7439 - val_loss: 0.6680 - val_accuracy: 0.7534\n",
            "Epoch 34/50\n",
            "251/251 [==============================] - 86s 342ms/step - loss: 0.6744 - accuracy: 0.7511 - val_loss: 0.6515 - val_accuracy: 0.7529\n",
            "Epoch 35/50\n",
            "251/251 [==============================] - 81s 322ms/step - loss: 0.6701 - accuracy: 0.7453 - val_loss: 0.6563 - val_accuracy: 0.7693\n",
            "Epoch 36/50\n",
            "251/251 [==============================] - 82s 325ms/step - loss: 0.6732 - accuracy: 0.7473 - val_loss: 0.6785 - val_accuracy: 0.7479\n",
            "Epoch 37/50\n",
            "251/251 [==============================] - 81s 324ms/step - loss: 0.6802 - accuracy: 0.7455 - val_loss: 0.6942 - val_accuracy: 0.7469\n",
            "Epoch 38/50\n",
            "251/251 [==============================] - 80s 320ms/step - loss: 0.6671 - accuracy: 0.7468 - val_loss: 0.6783 - val_accuracy: 0.7559\n",
            "Epoch 39/50\n",
            "251/251 [==============================] - 81s 323ms/step - loss: 0.6626 - accuracy: 0.7527 - val_loss: 0.6237 - val_accuracy: 0.7698\n",
            "Epoch 40/50\n",
            "251/251 [==============================] - 79s 313ms/step - loss: 0.6700 - accuracy: 0.7488 - val_loss: 0.6920 - val_accuracy: 0.7524\n",
            "Epoch 41/50\n",
            "251/251 [==============================] - 82s 326ms/step - loss: 0.6599 - accuracy: 0.7480 - val_loss: 0.6641 - val_accuracy: 0.7529\n",
            "Epoch 42/50\n",
            "251/251 [==============================] - 79s 313ms/step - loss: 0.6673 - accuracy: 0.7524 - val_loss: 0.6381 - val_accuracy: 0.7599\n",
            "Epoch 43/50\n",
            "251/251 [==============================] - 79s 315ms/step - loss: 0.6574 - accuracy: 0.7507 - val_loss: 0.6465 - val_accuracy: 0.7609\n",
            "Epoch 44/50\n",
            "251/251 [==============================] - 81s 322ms/step - loss: 0.6587 - accuracy: 0.7470 - val_loss: 0.6366 - val_accuracy: 0.7659\n",
            "Epoch 45/50\n",
            "251/251 [==============================] - 83s 330ms/step - loss: 0.6466 - accuracy: 0.7532 - val_loss: 0.6476 - val_accuracy: 0.7539\n",
            "Epoch 46/50\n",
            "251/251 [==============================] - 107s 428ms/step - loss: 0.6584 - accuracy: 0.7529 - val_loss: 0.6481 - val_accuracy: 0.7649\n",
            "Epoch 47/50\n",
            "251/251 [==============================] - 83s 330ms/step - loss: 0.6553 - accuracy: 0.7565 - val_loss: 0.6208 - val_accuracy: 0.7733\n",
            "Epoch 48/50\n",
            "251/251 [==============================] - 77s 307ms/step - loss: 0.6482 - accuracy: 0.7520 - val_loss: 0.6441 - val_accuracy: 0.7609\n",
            "Epoch 49/50\n",
            "251/251 [==============================] - 79s 316ms/step - loss: 0.6440 - accuracy: 0.7610 - val_loss: 0.6847 - val_accuracy: 0.7399\n",
            "Epoch 50/50\n",
            "251/251 [==============================] - 80s 319ms/step - loss: 0.6493 - accuracy: 0.7547 - val_loss: 0.6329 - val_accuracy: 0.7768\n"
          ]
        }
      ]
    },
    {
      "cell_type": "markdown",
      "source": [
        "##EVALUASI MODEL"
      ],
      "metadata": {
        "id": "zUlyrkN7ovXe"
      }
    },
    {
      "cell_type": "code",
      "source": [
        "loss, accuracy = model.evaluate(X_test, y_test)\n",
        "print(f'Test loss: {loss}')\n",
        "print(f'Test accuracy: {accuracy}')\n"
      ],
      "metadata": {
        "id": "EHlRAwNJSo9E",
        "colab": {
          "base_uri": "https://localhost:8080/"
        },
        "outputId": "6a256cd8-9f1e-424f-fb2e-344661bd5fcd"
      },
      "execution_count": 17,
      "outputs": [
        {
          "output_type": "stream",
          "name": "stdout",
          "text": [
            "63/63 [==============================] - 6s 88ms/step - loss: 0.6329 - accuracy: 0.7768\n",
            "Test loss: 0.6328916549682617\n",
            "Test accuracy: 0.7768347263336182\n"
          ]
        }
      ]
    },
    {
      "cell_type": "markdown",
      "source": [
        "##Melakukan prediksi pada data uji, menampilkan confusion matrix, dan mencetaknya.\n"
      ],
      "metadata": {
        "id": "y6jS5qHulwe3"
      }
    },
    {
      "cell_type": "code",
      "source": [
        "# Predictions and confusion matrix\n",
        "y_pred = model.predict(X_test)\n",
        "y_pred_classes = np.argmax(y_pred, axis=1)\n",
        "y_true_classes = np.argmax(y_test, axis=1)\n",
        "\n",
        "conf_matrix = confusion_matrix(y_true_classes, y_pred_classes)\n",
        "print(conf_matrix)\n"
      ],
      "metadata": {
        "id": "1LjByj0-So6j",
        "colab": {
          "base_uri": "https://localhost:8080/"
        },
        "outputId": "148454d4-2364-485f-c74f-684c0ecd412c"
      },
      "execution_count": 18,
      "outputs": [
        {
          "output_type": "stream",
          "name": "stdout",
          "text": [
            "63/63 [==============================] - 4s 58ms/step\n",
            "[[  19    4   17    0    4   10    0]\n",
            " [  12   44   22    1    2   25    0]\n",
            " [   4    3  107    0   17   78    0]\n",
            " [   1    7    7    0    1    7    0]\n",
            " [   5    0   33    0   71  120    0]\n",
            " [   1    1   40    0   13 1290    1]\n",
            " [   1    2    0    0    0    8   25]]\n"
          ]
        }
      ]
    },
    {
      "cell_type": "code",
      "source": [
        "# Plot confusion matrix\n",
        "plt.figure(figsize=(10, 8))\n",
        "sns.heatmap(conf_matrix, annot=True, fmt='d', cmap='Blues', xticklabels=label_mapping.keys(), yticklabels=label_mapping.keys())\n",
        "plt.xlabel('Predicted')\n",
        "plt.ylabel('True')\n",
        "plt.title('Confusion Matrix')\n",
        "plt.show()\n"
      ],
      "metadata": {
        "id": "OuEBrcysSo4b",
        "colab": {
          "base_uri": "https://localhost:8080/",
          "height": 718
        },
        "outputId": "ba58c1eb-f745-41de-985c-cb5c7f23253b"
      },
      "execution_count": 19,
      "outputs": [
        {
          "output_type": "display_data",
          "data": {
            "text/plain": [
              "<Figure size 1000x800 with 2 Axes>"
            ],
            "image/png": "[encoded data removed]"
          },
          "metadata": {}
        }
      ]
    },
    {
      "cell_type": "markdown",
      "source": [
        "##Laporan klasifikasi yang mencakup precision, recall, dan f1-score untuk setiap kelas."
      ],
      "metadata": {
        "id": "uE_w8njp0VvF"
      }
    },
    {
      "cell_type": "code",
      "source": [
        "\n",
        "class_report = classification_report(y_true_classes, y_pred_classes, target_names=label_mapping.keys())\n",
        "print(class_report)\n"
      ],
      "metadata": {
        "id": "p6vOSTkDSo1U",
        "colab": {
          "base_uri": "https://localhost:8080/"
        },
        "outputId": "dc03193e-6b2f-4b8a-9293-9d06183ec054"
      },
      "execution_count": 20,
      "outputs": [
        {
          "output_type": "stream",
          "name": "stdout",
          "text": [
            "              precision    recall  f1-score   support\n",
            "\n",
            "       akiec       0.44      0.35      0.39        54\n",
            "         bcc       0.72      0.42      0.53       106\n",
            "         bkl       0.47      0.51      0.49       209\n",
            "          df       0.00      0.00      0.00        23\n",
            "         mel       0.66      0.31      0.42       229\n",
            "          nv       0.84      0.96      0.89      1346\n",
            "        vasc       0.96      0.69      0.81        36\n",
            "\n",
            "    accuracy                           0.78      2003\n",
            "   macro avg       0.58      0.46      0.50      2003\n",
            "weighted avg       0.76      0.78      0.75      2003\n",
            "\n"
          ]
        }
      ]
    },
    {
      "cell_type": "code",
      "source": [
        "# Print some example predictions\n",
        "for i in range(10):  # Display 10 predictions\n",
        "    print(f\"Image {i+1}:\")\n",
        "    print(f\"True Label: {list(label_mapping.keys())[y_true_classes[i]]}\")\n",
        "    print(f\"Predicted Label: {list(label_mapping.keys())[y_pred_classes[i]]}\")\n",
        "    print()"
      ],
      "metadata": {
        "colab": {
          "base_uri": "https://localhost:8080/"
        },
        "id": "kQm9gx6r3xd5",
        "outputId": "4e9a8939-d405-458a-a905-ac56928cd4dd"
      },
      "execution_count": 31,
      "outputs": [
        {
          "output_type": "stream",
          "name": "stdout",
          "text": [
            "Image 1:\n",
            "True Label: mel\n",
            "Predicted Label: nv\n",
            "\n",
            "Image 2:\n",
            "True Label: nv\n",
            "Predicted Label: nv\n",
            "\n",
            "Image 3:\n",
            "True Label: bkl\n",
            "Predicted Label: bkl\n",
            "\n",
            "Image 4:\n",
            "True Label: nv\n",
            "Predicted Label: nv\n",
            "\n",
            "Image 5:\n",
            "True Label: bcc\n",
            "Predicted Label: nv\n",
            "\n",
            "Image 6:\n",
            "True Label: nv\n",
            "Predicted Label: nv\n",
            "\n",
            "Image 7:\n",
            "True Label: nv\n",
            "Predicted Label: nv\n",
            "\n",
            "Image 8:\n",
            "True Label: mel\n",
            "Predicted Label: nv\n",
            "\n",
            "Image 9:\n",
            "True Label: mel\n",
            "Predicted Label: mel\n",
            "\n",
            "Image 10:\n",
            "True Label: nv\n",
            "Predicted Label: nv\n",
            "\n"
          ]
        }
      ]
    },
    {
      "cell_type": "code",
      "source": [
        "\n",
        "# Plot accuracy and loss\n",
        "plt.figure(figsize=(12, 4))\n",
        "plt.subplot(1, 2, 1)\n",
        "plt.plot(history.history['accuracy'], label='Train Accuracy')\n",
        "plt.plot(history.history['val_accuracy'], label='Validation Accuracy')\n",
        "plt.legend()\n",
        "plt.title('Accuracy')\n",
        "\n",
        "plt.subplot(1, 2, 2)\n",
        "plt.plot(history.history['loss'], label='Train Loss')\n",
        "plt.plot(history.history['val_loss'], label='Validation Loss')\n",
        "plt.legend()\n",
        "plt.title('Loss')\n",
        "\n",
        "plt.show()"
      ],
      "metadata": {
        "id": "-Bl-sjyESoy9",
        "colab": {
          "base_uri": "https://localhost:8080/",
          "height": 391
        },
        "outputId": "1d5b094c-ecb8-4514-ed86-38e74095753a"
      },
      "execution_count": 21,
      "outputs": [
        {
          "output_type": "display_data",
          "data": {
            "text/plain": [
              "<Figure size 1200x400 with 2 Axes>"
            ],
            "image/png": "[encoded data removed]"
          },
          "metadata": {}
        }
      ]
    },
    {
      "cell_type": "markdown",
      "source": [
        "#CONTOH PREDIKSI"
      ],
      "metadata": {
        "id": "BN-ygVhu0eZt"
      }
    },
    {
      "cell_type": "code",
      "source": [
        "# Function to preprocess image\n",
        "preprocess_image = lambda image_path: np.expand_dims(cv2.resize(cv2.imread(image_path) / 255.0, (64, 64)), axis=0)\n"
      ],
      "metadata": {
        "id": "27vHdp5v7KJr"
      },
      "execution_count": 40,
      "outputs": []
    },
    {
      "cell_type": "code",
      "source": [
        "# Function to predict image\n",
        "predict_image = lambda model, image_path: (\n",
        "    lambda predictions: (\n",
        "        {\n",
        "            0: 'Actinic keratoses (AK)',\n",
        "            1: 'Basal cell carcinoma (BCC)',\n",
        "            2: 'Benign keratosis-like lesions (BKL)',\n",
        "            3: 'Dermatofibroma (DF)',\n",
        "            4: 'Melanoma (MEL)',\n",
        "            5: 'Melanocytic nevi (NV)',\n",
        "            6: 'Vascular lesions (VASC)',\n",
        "            7: 'Bukan Kanker Kulit (UNK)'\n",
        "        }[np.argmax(predictions)],\n",
        "        np.max(predictions)\n",
        "    )\n",
        ")(model.predict(preprocess_image(image_path)))\n"
      ],
      "metadata": {
        "id": "8CtWgSvEt_aY"
      },
      "execution_count": 41,
      "outputs": []
    },
    {
      "cell_type": "code",
      "source": [
        "# Path gambar yang akan diprediksi\n",
        "example_image_path = '/content/Data_Kulit/ham10000_images_part_2/ISIC_0029306.jpg'\n"
      ],
      "metadata": {
        "id": "FRh2OWJ4vuvh"
      },
      "execution_count": 42,
      "outputs": []
    },
    {
      "cell_type": "code",
      "source": [
        "# Memanggil fungsi predict_image untuk mendapatkan prediksi kelas dan probabilitas\n",
        "predicted_class, prediction = predict_image(model, example_image_path)\n"
      ],
      "metadata": {
        "colab": {
          "base_uri": "https://localhost:8080/"
        },
        "id": "cpSozQ81vw6p",
        "outputId": "c222bf32-8357-4890-b5bc-3b5676517649"
      },
      "execution_count": 43,
      "outputs": [
        {
          "output_type": "stream",
          "name": "stdout",
          "text": [
            "1/1 [==============================] - 0s 27ms/step\n"
          ]
        }
      ]
    },
    {
      "cell_type": "code",
      "source": [
        "# Mencetak hasil prediksi\n",
        "print(\"Prediksi kelas gambar:\", predicted_class)\n",
        "print(\"Probabilitas prediksi:\", prediction)"
      ],
      "metadata": {
        "colab": {
          "base_uri": "https://localhost:8080/"
        },
        "id": "0huBusffvw1z",
        "outputId": "1172b682-6676-412a-83c3-838931e6930a"
      },
      "execution_count": 44,
      "outputs": [
        {
          "output_type": "stream",
          "name": "stdout",
          "text": [
            "Prediksi kelas gambar: Melanocytic nevi (NV)\n",
            "Probabilitas prediksi: 0.9296689\n"
          ]
        }
      ]
    }
  ]
}